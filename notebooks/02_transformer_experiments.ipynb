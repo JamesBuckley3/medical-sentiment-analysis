{
 "cells": [
  {
   "cell_type": "markdown",
   "id": "0ffa413b",
   "metadata": {},
   "source": [
    "# `02_transformer_experiments.ipynb`\n",
    "\n",
    "The purpose of this notebook is to build upon `01_logistic_regression_baseline.ipynb` and explore transformer-based models for [Google Reviews](\"https://www.kaggle.com/datasets/cgrowe96/google-reviews-of-us-medical-facilities\") sentiment classification.\n",
    "\n",
    "Baseline Logistic Regression + TF-IDF:\n",
    "- Accuracy: 0.968\n",
    "- F1 (positive): 0.972\n",
    "\n",
    "**Due to the age of my hardware I've trained this model in a [Google Colab notebook](\"https://colab.research.google.com/drive/1-4vLDxnuPr18D0Jq5XBjITgBFCuVwffM?usp=sharing\") where you can see outputs. The only notable difference is in the evaluation step where locally I use [evaluation.py](../scripts/evaluation.py) for display of a Confusion Matrix.**"
   ]
  },
  {
   "cell_type": "markdown",
   "id": "3fbd011c",
   "metadata": {},
   "source": [
    "## Setup"
   ]
  },
  {
   "cell_type": "markdown",
   "id": "7a181d98",
   "metadata": {},
   "source": [
    "### Imports"
   ]
  },
  {
   "cell_type": "code",
   "execution_count": null,
   "id": "7181ef38",
   "metadata": {},
   "outputs": [],
   "source": [
    "!pip install transformers datasets evaluate accelerate -q"
   ]
  },
  {
   "cell_type": "code",
   "execution_count": null,
   "id": "11285078",
   "metadata": {},
   "outputs": [],
   "source": [
    "import pandas as pd\n",
    "import numpy as np\n",
    "from datasets import Dataset\n",
    "from transformers import AutoTokenizer, AutoModelForSequenceClassification, TrainingArguments, Trainer\n",
    "import torch\n",
    "import sys\n",
    "sys.path.append(\"../scripts\")\n",
    "from evaluation import evaluate_model\n",
    "import torch.nn.functional as F"
   ]
  },
  {
   "cell_type": "markdown",
   "id": "4ddf662a",
   "metadata": {},
   "source": [
    "### Device Check"
   ]
  },
  {
   "cell_type": "code",
   "execution_count": null,
   "id": "dc7ba567",
   "metadata": {},
   "outputs": [],
   "source": [
    "device = torch.device(\"cuda\" if torch.cuda.is_available() else \"cpu\")\n",
    "device"
   ]
  },
  {
   "cell_type": "markdown",
   "id": "adec0308",
   "metadata": {},
   "source": [
    "### Load and Preview Data"
   ]
  },
  {
   "cell_type": "code",
   "execution_count": null,
   "id": "a5509c91",
   "metadata": {},
   "outputs": [],
   "source": [
    "df = pd.read_csv(\"../data/cleaned_reviews.csv\")\n",
    "df.head()"
   ]
  },
  {
   "cell_type": "markdown",
   "id": "0814850e",
   "metadata": {},
   "source": [
    "### Convert to Hugging Face Dataset"
   ]
  },
  {
   "cell_type": "code",
   "execution_count": null,
   "id": "591a12cd",
   "metadata": {},
   "outputs": [],
   "source": [
    "hf_dataset = Dataset.from_pandas(df)\n",
    "hf_dataset = hf_dataset.class_encode_column(\"label\")\n",
    "hf_dataset = hf_dataset.train_test_split(test_size=0.2, stratify_by_column=\"label\")"
   ]
  },
  {
   "cell_type": "markdown",
   "id": "a9652e10",
   "metadata": {},
   "source": [
    "### Tokenisation"
   ]
  },
  {
   "cell_type": "code",
   "execution_count": null,
   "id": "013d7670",
   "metadata": {},
   "outputs": [],
   "source": [
    "model_name = \"distilbert-base-uncased\"\n",
    "tokenizer = AutoTokenizer.from_pretrained(model_name)\n",
    "\n",
    "def tokenize(batch):\n",
    "    return tokenizer(batch[\"Review Text\"], padding=\"max_length\", truncation=True)\n",
    "\n",
    "tokenized_datasets = hf_dataset.map(tokenize, batched=True)"
   ]
  },
  {
   "cell_type": "markdown",
   "id": "ef445da7",
   "metadata": {},
   "source": [
    "### Load Model"
   ]
  },
  {
   "cell_type": "code",
   "execution_count": null,
   "id": "c9b9dc11",
   "metadata": {},
   "outputs": [],
   "source": [
    "num_labels = len(set(df[\"label\"]))\n",
    "model = AutoModelForSequenceClassification.from_pretrained(model_name, num_labels=num_labels).to(device)"
   ]
  },
  {
   "cell_type": "markdown",
   "id": "4fe9d8b1",
   "metadata": {},
   "source": [
    "## Modelling"
   ]
  },
  {
   "cell_type": "markdown",
   "id": "4d2875b7",
   "metadata": {},
   "source": [
    "### Training Setup"
   ]
  },
  {
   "cell_type": "code",
   "execution_count": null,
   "id": "3f17a9bb",
   "metadata": {},
   "outputs": [],
   "source": [
    "training_args = TrainingArguments(\n",
    "    output_dir=\"./results\",\n",
    "    learning_rate=2e-5,\n",
    "    per_device_train_batch_size=16,\n",
    "    per_device_eval_batch_size=16,\n",
    "    num_train_epochs=1,\n",
    "    weight_decay=0.01,\n",
    "    logging_dir='./logs',\n",
    "    logging_steps=50,\n",
    ")"
   ]
  },
  {
   "cell_type": "markdown",
   "id": "7d61f3d0",
   "metadata": {},
   "source": [
    "### Training"
   ]
  },
  {
   "cell_type": "code",
   "execution_count": null,
   "id": "16e44ba0",
   "metadata": {},
   "outputs": [],
   "source": [
    "trainer = Trainer(\n",
    "    model=model,\n",
    "    args=training_args,\n",
    "    train_dataset=tokenized_datasets[\"train\"],\n",
    "    eval_dataset=tokenized_datasets[\"test\"],\n",
    "    tokenizer=tokenizer\n",
    ")\n",
    "\n",
    "trainer.train()"
   ]
  },
  {
   "cell_type": "markdown",
   "id": "073c586d",
   "metadata": {},
   "source": [
    "## Evaluation and Export"
   ]
  },
  {
   "cell_type": "markdown",
   "id": "3043374d",
   "metadata": {},
   "source": [
    "### Evaluate Model"
   ]
  },
  {
   "cell_type": "code",
   "execution_count": null,
   "id": "3ce89c19",
   "metadata": {},
   "outputs": [],
   "source": [
    "label_names = [\"negative\", \"positive\"]\n",
    "y_true, y_pred, _ = evaluate_model(trainer, tokenized_datasets=tokenized_datasets, label_names=label_names)"
   ]
  },
  {
   "cell_type": "markdown",
   "id": "b90fc65d",
   "metadata": {},
   "source": [
    "### Save Model"
   ]
  },
  {
   "cell_type": "code",
   "execution_count": null,
   "id": "c23aab91",
   "metadata": {},
   "outputs": [],
   "source": [
    "trainer.save_model(\"./distilbert_sentiment\")\n",
    "tokenizer.save_pretrained(\"./distilbert_sentiment\")"
   ]
  }
 ],
 "metadata": {
  "kernelspec": {
   "display_name": "Python 3.11 + CUDA",
   "language": "python",
   "name": "py311-env"
  },
  "language_info": {
   "codemirror_mode": {
    "name": "ipython",
    "version": 3
   },
   "file_extension": ".py",
   "mimetype": "text/x-python",
   "name": "python",
   "nbconvert_exporter": "python",
   "pygments_lexer": "ipython3",
   "version": "3.11.9"
  }
 },
 "nbformat": 4,
 "nbformat_minor": 5
}
